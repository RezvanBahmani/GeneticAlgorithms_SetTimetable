{
 "cells": [
  {
   "cell_type": "markdown",
   "metadata": {},
   "source": [
    "<h1 style = \"font-size: 30px; text-align: center;\">AI Genetic Hands On</h1>\n",
    "<h2 style = \"font-size: 25px; text-align: center;\">Hospital Job Scheduling</h2>\n",
    "<h2 style = \"font-size: 25px; text-align: center; color: #666\">Name: Rezvan Bahmani</h2>\n",
    "<h2 style = \"font-size: 25px; text-align: center; color: #666\">Student Id: 810197473</h2>\n",
    "<h4 style=\"text-align: center\">Spring 1400</h4>"
   ]
  },
  {
   "cell_type": "markdown",
   "metadata": {},
   "source": [
    "<h2 style = \"font-size: 15px;\">Libraries I used</h2>"
   ]
  },
  {
   "cell_type": "code",
   "execution_count": 2,
   "metadata": {},
   "outputs": [],
   "source": [
    "import random\n",
    "import time\n",
    "import numpy as np\n",
    "\n",
    "\n",
    "ProbCrosPar1 = 0.45\n",
    "ProbCrosPar2 = 0.9\n",
    "\n",
    "space = ' '\n",
    "newLine = '\\n'"
   ]
  },
  {
   "cell_type": "markdown",
   "metadata": {},
   "source": [
    "<h2 style = \"font-size: 15px;\">Reading Test File Content</h2>"
   ]
  },
  {
   "cell_type": "markdown",
   "metadata": {},
   "source": [
    "<h2 style = \"font-size: 25px;\">Job Scheduler</h2>"
   ]
  },
  {
   "cell_type": "markdown",
   "metadata": {},
   "source": [
    "parameters Idefined with can be changed to see the influence on GA progress"
   ]
  },
  {
   "cell_type": "code",
   "execution_count": 4,
   "metadata": {},
   "outputs": [],
   "source": [
    "self.days = fileInfo[0]\n",
    "self.doctorsNum = len(fileInfo[1])\n",
    "self.doctorsIds = fileInfo[1]\n",
    "self.maxCapacity = fileInfo[2]\n",
    "self.allShifts = fileInfo[3]\n",
    "\n",
    "\n",
    "self.POPULATION_SIZE = 300\n",
    "self.elitismPercentage = 16\n",
    "self.pc = 0.65\n",
    "self.pm2 = 0.4\n",
    "self.ShiftsNum = self.days * 3\n",
    "self.chromosomes = self.generateInitialPopulation()"
   ]
  },
  {
   "cell_type": "markdown",
   "metadata": {},
   "source": [
    "<h2 style = \"font-size: 25px;\">Gnom definition:</h2>\n",
    "I defined a random line that is introdusing each doctor situation\n",
    "\n",
    "<h2 style = \"font-size: 25px;\">Chromosome definition:</h2>\n",
    "My GA aLgorithm chromosomes are a table with any column is presenting one shift per day. So each letter represents a chromosome gene.\n",
    "\n",
    "<h2 style = \"font-size: 25px;\">Initiate Population:</h2>\n",
    "Initiate Population:\n",
    "First populations in GA algorithms are usually created stochastically. Following this, I initiated population by creating random chromosoes as the number of population size. I set population size to 400. Below, it's shown how the initial population comes up."
   ]
  },
  {
   "cell_type": "code",
   "execution_count": null,
   "metadata": {},
   "outputs": [],
   "source": [
    "def generateGnom(self):\n",
    "    DocShifts = []\n",
    "    for i in range (self.ShiftsNum):\n",
    "        DocShifts.append(random.choice(range(2)))\n",
    "    return DocShifts\n",
    "\n",
    "\n",
    "def generateInitialPopulation(self):\n",
    "    population = []\n",
    "    for i in range(self.POPULATION_SIZE):\n",
    "        table = [[random.choice([0, 1]) for i in range( self.ShiftsNum)] for j in range( self.doctorsNum)]\n",
    "        tableFit = self.calculateFitness(table)\n",
    "        population.append([table, tableFit])\n",
    "    return population\n"
   ]
  },
  {
   "cell_type": "markdown",
   "metadata": {},
   "source": [
    "<h2 style = \"font-size: 25px;\">Fitness Function: (Scoring Chromosomes)</h2>\n",
    "\n",
    "Fitness function counts number of missmatching in the table and our target, which more of fitness, less of quality\n",
    "do the best fitness is 0"
   ]
  },
  {
   "cell_type": "code",
   "execution_count": null,
   "metadata": {},
   "outputs": [],
   "source": [
    "def calculateFitness(self, chromosome):\n",
    "    fitness = 0\n",
    "\n",
    "    for ColumnIndex in range(self.days):\n",
    "        dayNum = ColumnIndex\n",
    "        for i in range(3):\n",
    "            ColumnInChorom = dayNum * 3 + i\n",
    "            realDocNum = columnSum(chromosome, ColumnInChorom)\n",
    "            minimom = self.allShifts[ColumnIndex][i][0]\n",
    "            maximom = self.allShifts[ColumnIndex][i][1]\n",
    "            if realDocNum < minimom:\n",
    "                fitness += minimom - realDocNum\n",
    "            elif realDocNum > maximom:\n",
    "                fitness += realDocNum - maximom\n",
    "\n",
    "    for doctor in range(self.doctorsNum):\n",
    "        for dayNum in range(self.days - 1):\n",
    "            shab = 3 * dayNum + 2\n",
    "            farda_sob = 3 * (dayNum + 1) + 0\n",
    "            farda_asr = 3 * (dayNum + 1) + 1\n",
    "            if (chromosome[doctor][shab] == 1 and chromosome[doctor][farda_sob] == 1):\n",
    "                fitness += 1\n",
    "            if (chromosome[doctor][shab] == 1 and chromosome[doctor][farda_asr] == 1):\n",
    "                fitness += 1\n",
    "\n",
    "    for doctor in range(self.doctorsNum):\n",
    "        for dayNum in range(self.days - 2):\n",
    "            emshab = 3 * dayNum + 2\n",
    "            fardashab = 3 * (dayNum + 1) + 2\n",
    "            pasfardashab = 3 * (dayNum + 2) + 2\n",
    "            if (chromosome[doctor][emshab] == 1 and \n",
    "                chromosome[doctor][fardashab] == 1 and \n",
    "                chromosome[doctor][pasfardashab] == 1):\n",
    "                fitness += 1\n",
    "\n",
    "    for doctor in range(self.doctorsNum):\n",
    "        if sum(chromosome[doctor]) > self.maxCapacity:\n",
    "            fitness += sum(chromosome[doctor]) - self.maxCapacity\n",
    "\n",
    "    return fitness\n"
   ]
  },
  {
   "cell_type": "markdown",
   "metadata": {},
   "source": [
    "<h2 style = \"font-size: 25px;\">Cross-Over :</h2>\n",
    "\n",
    "from 2 parents which were selected for cross over, by a probability i choose 1 line( presenting a doctor situation) from parent1 and another line from parent 2"
   ]
  },
  {
   "cell_type": "code",
   "execution_count": null,
   "metadata": {},
   "outputs": [],
   "source": [
    "def crossOver(self, par1, par2):\n",
    "    child = []\n",
    "    for satr in range(self.doctorsNum):\n",
    "        prob = random.random()\n",
    "        if prob < ProbCrosPar1:\n",
    "            child.append(par1[satr])\n",
    "        elif prob < ProbCrosPar2:\n",
    "            child.append(par2[satr])\n",
    "        else:\n",
    "            child.append(self.generateGnom())\n",
    "    return child"
   ]
  },
  {
   "cell_type": "markdown",
   "metadata": {},
   "source": [
    "<h2 style = \"font-size: 25px;\">Selecting chromosomes for Cross-Over:</h2>\n",
    "        \n",
    "At First I used Elitism, that mean 16% of fittest population goes to the next generation directly and among remaining parents; I used random selection between 65 percent of best remaining parents"
   ]
  },
  {
   "cell_type": "code",
   "execution_count": null,
   "metadata": {},
   "outputs": [],
   "source": [
    "def generateNewPopulation(self, population):\n",
    "    newGeneration = []\n",
    "\n",
    "    elitismNum = int((self.POPULATION_SIZE * self.elitismPercentage)/100)\n",
    "    newGeneration.extend(population[:elitismNum])\n",
    "\n",
    "    ConsiderParNum = int(self.pc * self.POPULATION_SIZE)\n",
    "    restOfNewPop = self.POPULATION_SIZE - elitismNum\n",
    "    for i in range(restOfNewPop):\n",
    "        ParSelected = random.sample(range(0, ConsiderParNum), 2)\n",
    "        par1 = population[ParSelected[0]][0]\n",
    "        par2 = population[ParSelected[1]][0]\n",
    "        child = self.crossOver(par1, par2)\n",
    "        childFit = self.calculateFitness(child)\n",
    "        newGeneration.append([child, childFit])\n",
    "\n",
    "    return newGeneration"
   ]
  },
  {
   "cell_type": "markdown",
   "metadata": {},
   "source": [
    "<h2 style = \"font-size: 25px;\">Mutation:</h2>\n",
    "\n",
    "Noting the mutation rate which is 0.25 in this project, mutation happens for one forth of population. In this process, two genes are selected randomly and then they swap."
   ]
  },
  {
   "cell_type": "code",
   "execution_count": null,
   "metadata": {},
   "outputs": [],
   "source": [
    "def mutate2(self, chromosome):\n",
    "    mutingSelected = random.choice(range(self.doctorsNum))\n",
    "    for i in range(self.ShiftsNum):\n",
    "        prob = random.random()\n",
    "        if prob < 0.5:\n",
    "            chromosome[mutingSelected][i] = 1 - chromosome[mutingSelected][i]\n",
    "    return chromosome   "
   ]
  },
  {
   "cell_type": "markdown",
   "metadata": {},
   "source": [
    "Important Notes\n",
    "\n",
    "What happens if we increase the population size in each generation? answer : It will help the population be more precise. However, It decreses the speed.\n",
    "\n",
    "What is the roll of mutaition? What if we just use cross-over? answer : We may get stuck in local optima! Mutation does its best to avoid convergence and explore more areas.\n",
    "\n",
    "Is Mutation more effective or cross-over? answer: Crossover and mutation perform two different roles. Crossover pulls the population towards a local optima. Mutation breaks one or more members of a population out of a local optima and potentially discovers a better optimum space. Cross over is mover effective and more used and increase the exactness faseter than mutation.\n",
    "\n",
    "Why chromoseme Convergence happens? What problem it leeds to? how to tackle that? answer: Since the population is stuck in local optima. It hapens because the cross over and mutaition rate are not configured propely in genetic engine. It leeds not to find the global optima. By changing the cross over function, mutation rate or redefining the fitness function we can handle this problem. If we igonre the change of reproduction for chromosomes with low fitness, it may leed to this problem. So the selection function for cross over must be a stochastic function which assumes more probability for chromosomes with higher fitnesses while chromosome with lower fitnesess still have chance to be choosen."
   ]
  },
  {
   "cell_type": "code",
   "execution_count": null,
   "metadata": {},
   "outputs": [],
   "source": []
  }
 ],
 "metadata": {
  "kernelspec": {
   "display_name": "Python 3",
   "language": "python",
   "name": "python3"
  },
  "language_info": {
   "codemirror_mode": {
    "name": "ipython",
    "version": 3
   },
   "file_extension": ".py",
   "mimetype": "text/x-python",
   "name": "python",
   "nbconvert_exporter": "python",
   "pygments_lexer": "ipython3",
   "version": "3.8.3"
  }
 },
 "nbformat": 4,
 "nbformat_minor": 4
}
